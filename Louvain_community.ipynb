{
  "cells": [
    {
      "cell_type": "code",
      "execution_count": null,
      "metadata": {
        "id": "W5Fuo-dzNaOy"
      },
      "outputs": [],
      "source": [
        "import numpy as np\n",
        "import matplotlib.pyplot as plt\n",
        "import networkx as nx\n",
        "from community import community_louvain\n",
        "import networkx.algorithms.community as nx_comm\n",
        "import pandas as pd\n",
        "import matplotlib.cm as cm\n",
        "from itertools import product\n",
        "import copy"
      ]
    },
    {
      "cell_type": "code",
      "execution_count": null,
      "metadata": {
        "id": "2gfJnBCWPCGG"
      },
      "outputs": [],
      "source": [
        "df = pd.read_csv('/content/aves-weaver-social.edges.txt',sep=' ')\n",
        "dfl = df.to_numpy()"
      ]
    },
    {
      "cell_type": "code",
      "execution_count": null,
      "metadata": {
        "colab": {
          "base_uri": "https://localhost:8080/",
          "height": 424
        },
        "id": "vh0C54d2PXYd",
        "outputId": "5ca137d6-c1f0-4cde-ed6d-e2c2955d9ec5"
      },
      "outputs": [
        {
          "data": {
            "text/html": [
              "\n",
              "  <div id=\"df-af30fbc7-55f8-4f6b-81c2-02302c1baf3c\">\n",
              "    <div class=\"colab-df-container\">\n",
              "      <div>\n",
              "<style scoped>\n",
              "    .dataframe tbody tr th:only-of-type {\n",
              "        vertical-align: middle;\n",
              "    }\n",
              "\n",
              "    .dataframe tbody tr th {\n",
              "        vertical-align: top;\n",
              "    }\n",
              "\n",
              "    .dataframe thead th {\n",
              "        text-align: right;\n",
              "    }\n",
              "</style>\n",
              "<table border=\"1\" class=\"dataframe\">\n",
              "  <thead>\n",
              "    <tr style=\"text-align: right;\">\n",
              "      <th></th>\n",
              "      <th>1</th>\n",
              "      <th>2</th>\n",
              "      <th>0</th>\n",
              "    </tr>\n",
              "  </thead>\n",
              "  <tbody>\n",
              "    <tr>\n",
              "      <th>0</th>\n",
              "      <td>1</td>\n",
              "      <td>3</td>\n",
              "      <td>0</td>\n",
              "    </tr>\n",
              "    <tr>\n",
              "      <th>1</th>\n",
              "      <td>2</td>\n",
              "      <td>3</td>\n",
              "      <td>0</td>\n",
              "    </tr>\n",
              "    <tr>\n",
              "      <th>2</th>\n",
              "      <td>4</td>\n",
              "      <td>5</td>\n",
              "      <td>0</td>\n",
              "    </tr>\n",
              "    <tr>\n",
              "      <th>3</th>\n",
              "      <td>4</td>\n",
              "      <td>6</td>\n",
              "      <td>0</td>\n",
              "    </tr>\n",
              "    <tr>\n",
              "      <th>4</th>\n",
              "      <td>4</td>\n",
              "      <td>7</td>\n",
              "      <td>0</td>\n",
              "    </tr>\n",
              "    <tr>\n",
              "      <th>...</th>\n",
              "      <td>...</td>\n",
              "      <td>...</td>\n",
              "      <td>...</td>\n",
              "    </tr>\n",
              "    <tr>\n",
              "      <th>1420</th>\n",
              "      <td>433</td>\n",
              "      <td>240</td>\n",
              "      <td>22</td>\n",
              "    </tr>\n",
              "    <tr>\n",
              "      <th>1421</th>\n",
              "      <td>437</td>\n",
              "      <td>252</td>\n",
              "      <td>22</td>\n",
              "    </tr>\n",
              "    <tr>\n",
              "      <th>1422</th>\n",
              "      <td>437</td>\n",
              "      <td>240</td>\n",
              "      <td>22</td>\n",
              "    </tr>\n",
              "    <tr>\n",
              "      <th>1423</th>\n",
              "      <td>248</td>\n",
              "      <td>444</td>\n",
              "      <td>22</td>\n",
              "    </tr>\n",
              "    <tr>\n",
              "      <th>1424</th>\n",
              "      <td>252</td>\n",
              "      <td>240</td>\n",
              "      <td>22</td>\n",
              "    </tr>\n",
              "  </tbody>\n",
              "</table>\n",
              "<p>1425 rows × 3 columns</p>\n",
              "</div>\n",
              "      <button class=\"colab-df-convert\" onclick=\"convertToInteractive('df-af30fbc7-55f8-4f6b-81c2-02302c1baf3c')\"\n",
              "              title=\"Convert this dataframe to an interactive table.\"\n",
              "              style=\"display:none;\">\n",
              "        \n",
              "  <svg xmlns=\"http://www.w3.org/2000/svg\" height=\"24px\"viewBox=\"0 0 24 24\"\n",
              "       width=\"24px\">\n",
              "    <path d=\"M0 0h24v24H0V0z\" fill=\"none\"/>\n",
              "    <path d=\"M18.56 5.44l.94 2.06.94-2.06 2.06-.94-2.06-.94-.94-2.06-.94 2.06-2.06.94zm-11 1L8.5 8.5l.94-2.06 2.06-.94-2.06-.94L8.5 2.5l-.94 2.06-2.06.94zm10 10l.94 2.06.94-2.06 2.06-.94-2.06-.94-.94-2.06-.94 2.06-2.06.94z\"/><path d=\"M17.41 7.96l-1.37-1.37c-.4-.4-.92-.59-1.43-.59-.52 0-1.04.2-1.43.59L10.3 9.45l-7.72 7.72c-.78.78-.78 2.05 0 2.83L4 21.41c.39.39.9.59 1.41.59.51 0 1.02-.2 1.41-.59l7.78-7.78 2.81-2.81c.8-.78.8-2.07 0-2.86zM5.41 20L4 18.59l7.72-7.72 1.47 1.35L5.41 20z\"/>\n",
              "  </svg>\n",
              "      </button>\n",
              "      \n",
              "  <style>\n",
              "    .colab-df-container {\n",
              "      display:flex;\n",
              "      flex-wrap:wrap;\n",
              "      gap: 12px;\n",
              "    }\n",
              "\n",
              "    .colab-df-convert {\n",
              "      background-color: #E8F0FE;\n",
              "      border: none;\n",
              "      border-radius: 50%;\n",
              "      cursor: pointer;\n",
              "      display: none;\n",
              "      fill: #1967D2;\n",
              "      height: 32px;\n",
              "      padding: 0 0 0 0;\n",
              "      width: 32px;\n",
              "    }\n",
              "\n",
              "    .colab-df-convert:hover {\n",
              "      background-color: #E2EBFA;\n",
              "      box-shadow: 0px 1px 2px rgba(60, 64, 67, 0.3), 0px 1px 3px 1px rgba(60, 64, 67, 0.15);\n",
              "      fill: #174EA6;\n",
              "    }\n",
              "\n",
              "    [theme=dark] .colab-df-convert {\n",
              "      background-color: #3B4455;\n",
              "      fill: #D2E3FC;\n",
              "    }\n",
              "\n",
              "    [theme=dark] .colab-df-convert:hover {\n",
              "      background-color: #434B5C;\n",
              "      box-shadow: 0px 1px 3px 1px rgba(0, 0, 0, 0.15);\n",
              "      filter: drop-shadow(0px 1px 2px rgba(0, 0, 0, 0.3));\n",
              "      fill: #FFFFFF;\n",
              "    }\n",
              "  </style>\n",
              "\n",
              "      <script>\n",
              "        const buttonEl =\n",
              "          document.querySelector('#df-af30fbc7-55f8-4f6b-81c2-02302c1baf3c button.colab-df-convert');\n",
              "        buttonEl.style.display =\n",
              "          google.colab.kernel.accessAllowed ? 'block' : 'none';\n",
              "\n",
              "        async function convertToInteractive(key) {\n",
              "          const element = document.querySelector('#df-af30fbc7-55f8-4f6b-81c2-02302c1baf3c');\n",
              "          const dataTable =\n",
              "            await google.colab.kernel.invokeFunction('convertToInteractive',\n",
              "                                                     [key], {});\n",
              "          if (!dataTable) return;\n",
              "\n",
              "          const docLinkHtml = 'Like what you see? Visit the ' +\n",
              "            '<a target=\"_blank\" href=https://colab.research.google.com/notebooks/data_table.ipynb>data table notebook</a>'\n",
              "            + ' to learn more about interactive tables.';\n",
              "          element.innerHTML = '';\n",
              "          dataTable['output_type'] = 'display_data';\n",
              "          await google.colab.output.renderOutput(dataTable, element);\n",
              "          const docLink = document.createElement('div');\n",
              "          docLink.innerHTML = docLinkHtml;\n",
              "          element.appendChild(docLink);\n",
              "        }\n",
              "      </script>\n",
              "    </div>\n",
              "  </div>\n",
              "  "
            ],
            "text/plain": [
              "        1    2   0\n",
              "0       1    3   0\n",
              "1       2    3   0\n",
              "2       4    5   0\n",
              "3       4    6   0\n",
              "4       4    7   0\n",
              "...   ...  ...  ..\n",
              "1420  433  240  22\n",
              "1421  437  252  22\n",
              "1422  437  240  22\n",
              "1423  248  444  22\n",
              "1424  252  240  22\n",
              "\n",
              "[1425 rows x 3 columns]"
            ]
          },
          "execution_count": 3,
          "metadata": {},
          "output_type": "execute_result"
        }
      ],
      "source": [
        "df"
      ]
    },
    {
      "cell_type": "markdown",
      "metadata": {
        "id": "BHsch0hZXLso"
      },
      "source": [
        "**INBUILT LOUVAIN ALGORITHM**"
      ]
    },
    {
      "cell_type": "code",
      "execution_count": null,
      "metadata": {
        "id": "DrNJ6zK4PM70"
      },
      "outputs": [],
      "source": [
        "G = nx.from_pandas_edgelist(df,'1','2')\n",
        "partition = community_louvain.best_partition(G)"
      ]
    },
    {
      "cell_type": "code",
      "source": [
        "import collections\n",
        "import matplotlib.pyplot as plt\n",
        "\n",
        "degree_sequence = sorted([d for n, d in G.degree()], reverse=True)  # degree sequence\n",
        "# print \"Degree sequence\", degree_sequence\n",
        "degreeCount = collections.Counter(degree_sequence)\n",
        "deg, cnt = zip(*degreeCount.items())\n",
        "\n",
        "\n",
        "fig, ax = plt.subplots()\n",
        "plt.bar(deg, cnt, width=0.80, color='b')\n",
        "\n",
        "plt.title(\"Degree Histogram\")\n",
        "plt.ylabel(\"Count\")\n",
        "plt.xlabel(\"Degree\")\n",
        "ax.set_xticks([d + 0.4 for d in deg])\n",
        "ax.set_xticklabels(deg)"
      ],
      "metadata": {
        "colab": {
          "base_uri": "https://localhost:8080/",
          "height": 699
        },
        "id": "MIWgctseOrCR",
        "outputId": "88a60474-fd55-459f-cdff-71693bed9083"
      },
      "execution_count": null,
      "outputs": [
        {
          "output_type": "execute_result",
          "data": {
            "text/plain": [
              "[Text(0, 0, '27'),\n",
              " Text(0, 0, '22'),\n",
              " Text(0, 0, '21'),\n",
              " Text(0, 0, '19'),\n",
              " Text(0, 0, '18'),\n",
              " Text(0, 0, '17'),\n",
              " Text(0, 0, '16'),\n",
              " Text(0, 0, '15'),\n",
              " Text(0, 0, '14'),\n",
              " Text(0, 0, '13'),\n",
              " Text(0, 0, '12'),\n",
              " Text(0, 0, '11'),\n",
              " Text(0, 0, '10'),\n",
              " Text(0, 0, '9'),\n",
              " Text(0, 0, '8'),\n",
              " Text(0, 0, '7'),\n",
              " Text(0, 0, '6'),\n",
              " Text(0, 0, '5'),\n",
              " Text(0, 0, '4'),\n",
              " Text(0, 0, '3'),\n",
              " Text(0, 0, '2'),\n",
              " Text(0, 0, '1')]"
            ]
          },
          "metadata": {},
          "execution_count": 26
        },
        {
          "output_type": "display_data",
          "data": {
            "text/plain": [
              "<Figure size 432x288 with 1 Axes>"
            ],
            "image/png": "[encoded data removed]"
          },
          "metadata": {
            "needs_background": "light"
          }
        }
      ]
    },
    {
      "cell_type": "code",
      "source": [
        "from scipy.stats import norm\n",
        "\n",
        "data = degree_sequence\n",
        "\n",
        "mu, std = norm.fit(data) \n",
        "\n",
        "xmin, xmax = min(data)-1,max(data)+1\n",
        "\n",
        "x = np.linspace(xmin, xmax, 100)\n",
        "p = norm.pdf(x, mu, std)\n",
        "  \n",
        "plt.plot(x, p, 'k', linewidth=2)\n",
        "plt.hist(data, bins=len(cnt), density=True, alpha=0.6, color='b')"
      ],
      "metadata": {
        "colab": {
          "base_uri": "https://localhost:8080/",
          "height": 467
        },
        "id": "OdOuNrDcPEGb",
        "outputId": "ea96f905-fd7f-4ddd-b788-691fc61c055d"
      },
      "execution_count": null,
      "outputs": [
        {
          "output_type": "execute_result",
          "data": {
            "text/plain": [
              "(array([0.15211755, 0.11218669, 0.12929991, 0.0988764 , 0.03422645,\n",
              "        0.11979257, 0.05514261, 0.03802939, 0.02091616, 0.02852204,\n",
              "        0.01140882, 0.02091616, 0.00570441, 0.00190147, 0.00190147,\n",
              "        0.00570441, 0.00570441, 0.00190147, 0.        , 0.        ,\n",
              "        0.        , 0.00190147]),\n",
              " array([ 1.        ,  2.18181818,  3.36363636,  4.54545455,  5.72727273,\n",
              "         6.90909091,  8.09090909,  9.27272727, 10.45454545, 11.63636364,\n",
              "        12.81818182, 14.        , 15.18181818, 16.36363636, 17.54545455,\n",
              "        18.72727273, 19.90909091, 21.09090909, 22.27272727, 23.45454545,\n",
              "        24.63636364, 25.81818182, 27.        ]),\n",
              " <a list of 22 Patch objects>)"
            ]
          },
          "metadata": {},
          "execution_count": 27
        },
        {
          "output_type": "display_data",
          "data": {
            "text/plain": [
              "<Figure size 432x288 with 1 Axes>"
            ],
            "image/png": "[encoded data removed]"
          },
          "metadata": {
            "needs_background": "light"
          }
        }
      ]
    },
    {
      "cell_type": "code",
      "execution_count": null,
      "metadata": {
        "id": "NVTVO11CJRRl"
      },
      "outputs": [],
      "source": [
        "nodes = [i for i in range(1,len(G.nodes())+1)]"
      ]
    },
    {
      "cell_type": "code",
      "execution_count": null,
      "metadata": {
        "id": "5SvC-PALQOPO"
      },
      "outputs": [],
      "source": [
        "pos = nx.nx_pydot.graphviz_layout(G)"
      ]
    },
    {
      "cell_type": "code",
      "execution_count": null,
      "metadata": {
        "id": "C5xkk3XfRgpX"
      },
      "outputs": [],
      "source": [
        "fig = plt.figure(figsize=(40,35),dpi=400)\n",
        "cmap = cm.get_cmap('gist_rainbow', max(partition.values()) + 1)\n",
        "nx.draw_networkx_nodes(G, pos, partition.keys(), node_size=100,cmap=cmap, node_color=list(partition.values()))\n",
        "nx.draw_networkx_edges(G, pos)\n",
        "nx.draw_networkx_labels(G,pos)\n",
        "# plt.savefig(\"louvain_applied_total_graph.png\",dpi=150)"
      ]
    },
    {
      "cell_type": "markdown",
      "metadata": {
        "id": "7vV9W_LKXkDe"
      },
      "source": [
        "**LOUVAIN ALGORITHM RECREATION**"
      ]
    },
    {
      "cell_type": "code",
      "execution_count": null,
      "metadata": {
        "id": "n1C-eYfPYcZo"
      },
      "outputs": [],
      "source": [
        "A = nx.to_numpy_array(G)\n",
        "\n",
        "m=0\n",
        "for i in range(len(G.nodes())):\n",
        "  for j in range(len(G.nodes())):\n",
        "    m += A[i][j]\n",
        "m = m/2 "
      ]
    },
    {
      "cell_type": "code",
      "execution_count": null,
      "metadata": {
        "id": "-sKAtaxtrNTj"
      },
      "outputs": [],
      "source": [
        "# def modularity(G, partition):\n",
        "#     \"\"\"Returns the modularity of the partition of an undirected graph G.\n",
        "\n",
        "#     Definition as given in:\n",
        "#         M. E. J. Newman. Networks: An Introduction, page 224.\n",
        "#     Oxford University Press, 2011.\n",
        "\n",
        "#     \"\"\"\n",
        "#     m = G.size()\n",
        "#     degrees = dict(G.degree(weight=\"weight\"))\n",
        "#     Q = 0\n",
        "#     for community in partition:\n",
        "#         for u, v in product(community, repeat=2):\n",
        "#             try:\n",
        "#                 w = G[u][v].get(\"weight\", 1)\n",
        "#             except KeyError:\n",
        "#                 w = 0\n",
        "#             if u == v:\n",
        "#                 # Double count self-loop weight.\n",
        "#                 w *= 2\n",
        "#             Q += w - degrees[u] * degrees[v] / (2 * m)\n",
        "#     return Q / (2 * m)\n",
        "\n",
        "def modularity(array,G):\n",
        "  ta = []\n",
        "  for i in range(len(array)):\n",
        "    ta.append(set(array[i]))\n",
        "  mod = nx_comm.modularity(G,ta) \n",
        "  return mod \n",
        "\n",
        "def shift_from(array,a,b):\n",
        "  for i in range(len(array)):\n",
        "    if(a in array[i]):\n",
        "      array[i].remove(a)\n",
        "      array[b].append(a)\n",
        "      break\n",
        "\n",
        "  for i in range(len(array)):\n",
        "        if(len(array[i])==0):\n",
        "          del array[i]       \n",
        "  return array"
      ]
    },
    {
      "cell_type": "code",
      "execution_count": null,
      "metadata": {
        "id": "b56S0OQ_mpp8"
      },
      "outputs": [],
      "source": [
        "C_ini = []\n",
        "for i in range(len(G.nodes())):\n",
        "  C_ini.append([i])"
      ]
    },
    {
      "cell_type": "code",
      "execution_count": null,
      "metadata": {
        "colab": {
          "base_uri": "https://localhost:8080/",
          "height": 374
        },
        "id": "loTQoE0Bz0Kc",
        "outputId": "e721bb50-cc6a-4b02-e9fc-0880cedfed54"
      },
      "outputs": [
        {
          "ename": "IndexError",
          "evalue": "ignored",
          "output_type": "error",
          "traceback": [
            "\u001b[0;31m---------------------------------------------------------------------------\u001b[0m",
            "\u001b[0;31mIndexError\u001b[0m                                Traceback (most recent call last)",
            "\u001b[0;32m<ipython-input-19-f6e7ff4f5398>\u001b[0m in \u001b[0;36m<module>\u001b[0;34m\u001b[0m\n\u001b[1;32m      4\u001b[0m   \u001b[0mmod\u001b[0m \u001b[0;34m=\u001b[0m \u001b[0;34m[\u001b[0m\u001b[0;34m]\u001b[0m\u001b[0;34m\u001b[0m\u001b[0;34m\u001b[0m\u001b[0m\n\u001b[1;32m      5\u001b[0m   \u001b[0;32mfor\u001b[0m \u001b[0mj\u001b[0m \u001b[0;32min\u001b[0m \u001b[0mrange\u001b[0m\u001b[0;34m(\u001b[0m\u001b[0mlen\u001b[0m\u001b[0;34m(\u001b[0m\u001b[0mcin\u001b[0m\u001b[0;34m)\u001b[0m\u001b[0;34m)\u001b[0m\u001b[0;34m:\u001b[0m\u001b[0;34m\u001b[0m\u001b[0;34m\u001b[0m\u001b[0m\n\u001b[0;32m----> 6\u001b[0;31m     \u001b[0mmodified\u001b[0m \u001b[0;34m=\u001b[0m \u001b[0mshift_from\u001b[0m\u001b[0;34m(\u001b[0m\u001b[0mcin\u001b[0m\u001b[0;34m,\u001b[0m\u001b[0mi\u001b[0m\u001b[0;34m,\u001b[0m\u001b[0mj\u001b[0m\u001b[0;34m)\u001b[0m\u001b[0;34m\u001b[0m\u001b[0;34m\u001b[0m\u001b[0m\n\u001b[0m\u001b[1;32m      7\u001b[0m     \u001b[0mmod\u001b[0m\u001b[0;34m.\u001b[0m\u001b[0mappend\u001b[0m\u001b[0;34m(\u001b[0m\u001b[0mmodularity\u001b[0m\u001b[0;34m(\u001b[0m\u001b[0mmodified\u001b[0m\u001b[0;34m,\u001b[0m\u001b[0mG\u001b[0m\u001b[0;34m)\u001b[0m\u001b[0;34m)\u001b[0m\u001b[0;34m\u001b[0m\u001b[0;34m\u001b[0m\u001b[0m\n\u001b[1;32m      8\u001b[0m   \u001b[0mk\u001b[0m \u001b[0;34m=\u001b[0m \u001b[0mmod\u001b[0m\u001b[0;34m.\u001b[0m\u001b[0mindex\u001b[0m\u001b[0;34m(\u001b[0m\u001b[0mmax\u001b[0m\u001b[0;34m(\u001b[0m\u001b[0mmod\u001b[0m\u001b[0;34m)\u001b[0m\u001b[0;34m)\u001b[0m\u001b[0;34m\u001b[0m\u001b[0;34m\u001b[0m\u001b[0m\n",
            "\u001b[0;32m<ipython-input-6-148499418dca>\u001b[0m in \u001b[0;36mshift_from\u001b[0;34m(array, a, b)\u001b[0m\n\u001b[1;32m     37\u001b[0m \u001b[0;34m\u001b[0m\u001b[0m\n\u001b[1;32m     38\u001b[0m   \u001b[0;32mfor\u001b[0m \u001b[0mi\u001b[0m \u001b[0;32min\u001b[0m \u001b[0mrange\u001b[0m\u001b[0;34m(\u001b[0m\u001b[0mlen\u001b[0m\u001b[0;34m(\u001b[0m\u001b[0marray\u001b[0m\u001b[0;34m)\u001b[0m\u001b[0;34m)\u001b[0m\u001b[0;34m:\u001b[0m\u001b[0;34m\u001b[0m\u001b[0;34m\u001b[0m\u001b[0m\n\u001b[0;32m---> 39\u001b[0;31m         \u001b[0;32mif\u001b[0m\u001b[0;34m(\u001b[0m\u001b[0mlen\u001b[0m\u001b[0;34m(\u001b[0m\u001b[0marray\u001b[0m\u001b[0;34m[\u001b[0m\u001b[0mi\u001b[0m\u001b[0;34m]\u001b[0m\u001b[0;34m)\u001b[0m\u001b[0;34m==\u001b[0m\u001b[0;36m0\u001b[0m\u001b[0;34m)\u001b[0m\u001b[0;34m:\u001b[0m\u001b[0;34m\u001b[0m\u001b[0;34m\u001b[0m\u001b[0m\n\u001b[0m\u001b[1;32m     40\u001b[0m           \u001b[0;32mdel\u001b[0m \u001b[0marray\u001b[0m\u001b[0;34m[\u001b[0m\u001b[0mi\u001b[0m\u001b[0;34m]\u001b[0m\u001b[0;34m\u001b[0m\u001b[0;34m\u001b[0m\u001b[0m\n\u001b[1;32m     41\u001b[0m   \u001b[0;32mreturn\u001b[0m \u001b[0marray\u001b[0m\u001b[0;34m\u001b[0m\u001b[0;34m\u001b[0m\u001b[0m\n",
            "\u001b[0;31mIndexError\u001b[0m: list index out of range"
          ]
        }
      ],
      "source": [
        "cin = [[i] for i in nodes]\n",
        "\n",
        "for i in nodes:\n",
        "  mod = []\n",
        "  for j in range(len(cin)):\n",
        "    modified = shift_from(cin,i,j)\n",
        "    mod.append(modularity(modified,G))\n",
        "  k = mod.index(max(mod))\n",
        "  cin = shift_from(cin,i,k)\n",
        "\n",
        "cin"
      ]
    },
    {
      "cell_type": "code",
      "execution_count": null,
      "metadata": {
        "id": "X3yXknFhAZ7r"
      },
      "outputs": [],
      "source": [
        "B = [[1,2,4],[7,89],[3,4]]"
      ]
    },
    {
      "cell_type": "code",
      "execution_count": null,
      "metadata": {
        "id": "lQFeKs9dL63a",
        "colab": {
          "base_uri": "https://localhost:8080/"
        },
        "outputId": "6927e595-c206-44a3-fd7b-5d987c3a0fe7"
      },
      "outputs": [
        {
          "output_type": "execute_result",
          "data": {
            "text/plain": [
              "[[2, 4], [7, 89], [3, 4, 1]]"
            ]
          },
          "metadata": {},
          "execution_count": 23
        }
      ],
      "source": [
        "shift_from(B,1,2)"
      ]
    },
    {
      "cell_type": "code",
      "execution_count": null,
      "metadata": {
        "colab": {
          "base_uri": "https://localhost:8080/"
        },
        "id": "q9w6MewAPlcq",
        "outputId": "3c0913b5-6002-42e9-9811-44e209391373"
      },
      "outputs": [
        {
          "data": {
            "text/plain": [
              "98790"
            ]
          },
          "execution_count": 89,
          "metadata": {},
          "output_type": "execute_result"
        }
      ],
      "source": [
        "len(new_list)"
      ]
    },
    {
      "cell_type": "code",
      "execution_count": null,
      "metadata": {
        "id": "aU43mABRX8ID"
      },
      "outputs": [],
      "source": [
        "m = G.size()"
      ]
    },
    {
      "cell_type": "code",
      "execution_count": null,
      "metadata": {
        "colab": {
          "base_uri": "https://localhost:8080/"
        },
        "id": "tsrrH4yDcHvb",
        "outputId": "bfaaa886-2c8c-4c71-a009-4ff2d78b2623"
      },
      "outputs": [
        {
          "data": {
            "text/plain": [
              "1334"
            ]
          },
          "execution_count": 100,
          "metadata": {},
          "output_type": "execute_result"
        }
      ],
      "source": []
    },
    {
      "cell_type": "code",
      "execution_count": null,
      "metadata": {
        "id": "wU_ixlU3cgUa"
      },
      "outputs": [],
      "source": []
    }
  ],
  "metadata": {
    "colab": {
      "provenance": []
    },
    "kernelspec": {
      "display_name": "Python 3",
      "name": "python3"
    },
    "language_info": {
      "name": "python"
    }
  },
  "nbformat": 4,
  "nbformat_minor": 0
}